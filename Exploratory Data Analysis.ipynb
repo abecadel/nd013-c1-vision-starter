{
 "cells": [
  {
   "cell_type": "markdown",
   "metadata": {},
   "source": [
    "# Explore the dataset\n",
    "\n",
    "\n",
    "In this notebook, we will perform an EDA (Exploratory Data Analysis) on the processed Waymo dataset (data in the `processed` folder). In the first part, you will create a function to display "
   ]
  },
  {
   "cell_type": "code",
   "execution_count": 1,
   "metadata": {},
   "outputs": [],
   "source": [
    "from utils import get_dataset"
   ]
  },
  {
   "cell_type": "code",
   "execution_count": 3,
   "metadata": {},
   "outputs": [],
   "source": [
    "get_dataset?"
   ]
  },
  {
   "cell_type": "code",
   "execution_count": 4,
   "metadata": {},
   "outputs": [
    {
     "name": "stdout",
     "output_type": "stream",
     "text": [
      "INFO:tensorflow:Reading unweighted datasets: ['/home/michal/waymo/processed/segment-10017090168044687777_6380_000_6400_000_with_camera_labels.tfrecord']\n",
      "INFO:tensorflow:Reading record datasets for input file: ['/home/michal/waymo/processed/segment-10017090168044687777_6380_000_6400_000_with_camera_labels.tfrecord']\n",
      "INFO:tensorflow:Number of filenames to read: 1\n",
      "WARNING:tensorflow:num_readers has been reduced to 1 to match input file shards.\n",
      "WARNING:tensorflow:From /home/michal/anaconda3/envs/udacity2/lib/python3.9/site-packages/object_detection/builders/dataset_builder.py:100: parallel_interleave (from tensorflow.python.data.experimental.ops.interleave_ops) is deprecated and will be removed in a future version.\n",
      "Instructions for updating:\n",
      "Use `tf.data.Dataset.interleave(map_func, cycle_length, block_length, num_parallel_calls=tf.data.AUTOTUNE)` instead. If sloppy execution is desired, use `tf.data.Options.deterministic`.\n",
      "WARNING:tensorflow:From /home/michal/anaconda3/envs/udacity2/lib/python3.9/site-packages/object_detection/builders/dataset_builder.py:235: DatasetV1.map_with_legacy_function (from tensorflow.python.data.ops.dataset_ops) is deprecated and will be removed in a future version.\n",
      "Instructions for updating:\n",
      "Use `tf.data.Dataset.map()\n"
     ]
    }
   ],
   "source": [
    "dataset = get_dataset(\"/home/michal/waymo/processed/segment-10017090168044687777_6380_000_6400_000_with_camera_labels.tfrecord\")"
   ]
  },
  {
   "cell_type": "markdown",
   "metadata": {},
   "source": [
    "## Write a function to display an image and the bounding boxes\n",
    "\n",
    "Implement the `display_instances` function below. This function takes a batch as an input and display an image with its corresponding bounding boxes. The only requirement is that the classes should be color coded (eg, vehicles in red, pedestrians in blue, cyclist in green)."
   ]
  },
  {
   "cell_type": "code",
   "execution_count": null,
   "metadata": {},
   "outputs": [],
   "source": [
    "def display_instances(batch):\n",
    "    \"\"\"\n",
    "    This function takes a batch from the dataset and display the image with \n",
    "    the associated bounding boxes.\n",
    "    \"\"\"\n",
    "    # ADD CODE HERE"
   ]
  },
  {
   "cell_type": "markdown",
   "metadata": {},
   "source": [
    "## Display 10 images \n",
    "\n",
    "Using the dataset created in the second cell and the function you just coded, display 10 random images with the associated bounding boxes. You can use the methods `take` and `shuffle` on the dataset."
   ]
  },
  {
   "cell_type": "code",
   "execution_count": null,
   "metadata": {},
   "outputs": [],
   "source": [
    "## STUDENT SOLUTION HERE"
   ]
  },
  {
   "cell_type": "markdown",
   "metadata": {},
   "source": [
    "## Additional EDA\n",
    "\n",
    "In this last part, you are free to perform any additional analysis of the dataset. What else would like to know about the data?\n",
    "For example, think about data distribution. So far, you have only looked at a single file..."
   ]
  },
  {
   "cell_type": "code",
   "execution_count": 5,
   "metadata": {},
   "outputs": [],
   "source": [
    "for r in dataset.take(1):\n",
    "    pass"
   ]
  },
  {
   "cell_type": "code",
   "execution_count": 8,
   "metadata": {},
   "outputs": [
    {
     "data": {
      "text/plain": [
       "dict_keys(['image', 'source_id', 'key', 'filename', 'groundtruth_image_confidences', 'groundtruth_verified_neg_classes', 'groundtruth_not_exhaustive_classes', 'groundtruth_boxes', 'groundtruth_area', 'groundtruth_is_crowd', 'groundtruth_difficult', 'groundtruth_group_of', 'groundtruth_weights', 'groundtruth_classes', 'groundtruth_image_classes', 'original_image_spatial_shape'])"
      ]
     },
     "execution_count": 8,
     "metadata": {},
     "output_type": "execute_result"
    }
   ],
   "source": [
    "r.keys()"
   ]
  },
  {
   "cell_type": "code",
   "execution_count": 9,
   "metadata": {},
   "outputs": [
    {
     "data": {
      "text/plain": [
       "<tf.Tensor: shape=(640, 640, 3), dtype=uint8, numpy=\n",
       "array([[[161, 204, 255],\n",
       "        [149, 192, 243],\n",
       "        [155, 198, 249],\n",
       "        ...,\n",
       "        [ 47,  66,  73],\n",
       "        [ 49,  68,  75],\n",
       "        [ 50,  69,  76]],\n",
       "\n",
       "       [[157, 200, 251],\n",
       "        [152, 195, 246],\n",
       "        [155, 198, 249],\n",
       "        ...,\n",
       "        [ 49,  68,  75],\n",
       "        [ 48,  67,  74],\n",
       "        [ 47,  66,  73]],\n",
       "\n",
       "       [[157, 203, 252],\n",
       "        [150, 196, 245],\n",
       "        [157, 203, 253],\n",
       "        ...,\n",
       "        [ 51,  70,  76],\n",
       "        [ 49,  68,  74],\n",
       "        [ 50,  69,  75]],\n",
       "\n",
       "       ...,\n",
       "\n",
       "       [[ 53,  70,  80],\n",
       "        [ 53,  71,  81],\n",
       "        [ 54,  74,  83],\n",
       "        ...,\n",
       "        [ 27,  49,  62],\n",
       "        [ 27,  51,  61],\n",
       "        [ 24,  48,  58]],\n",
       "\n",
       "       [[ 53,  70,  80],\n",
       "        [ 54,  72,  82],\n",
       "        [ 52,  72,  81],\n",
       "        ...,\n",
       "        [ 25,  47,  60],\n",
       "        [ 24,  48,  60],\n",
       "        [ 22,  46,  58]],\n",
       "\n",
       "       [[ 52,  69,  79],\n",
       "        [ 54,  72,  82],\n",
       "        [ 49,  69,  78],\n",
       "        ...,\n",
       "        [ 25,  47,  60],\n",
       "        [ 24,  48,  60],\n",
       "        [ 22,  46,  58]]], dtype=uint8)>"
      ]
     },
     "execution_count": 9,
     "metadata": {},
     "output_type": "execute_result"
    }
   ],
   "source": [
    "r[\"image\"]"
   ]
  }
 ],
 "metadata": {
  "kernelspec": {
   "display_name": "Python 3 (ipykernel)",
   "language": "python",
   "name": "python3"
  },
  "language_info": {
   "codemirror_mode": {
    "name": "ipython",
    "version": 3
   },
   "file_extension": ".py",
   "mimetype": "text/x-python",
   "name": "python",
   "nbconvert_exporter": "python",
   "pygments_lexer": "ipython3",
   "version": "3.9.12"
  }
 },
 "nbformat": 4,
 "nbformat_minor": 4
}
